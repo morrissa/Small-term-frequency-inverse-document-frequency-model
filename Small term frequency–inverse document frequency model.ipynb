{
 "cells": [
  {
   "cell_type": "markdown",
   "metadata": {},
   "source": [
    "#### The tf-idf model is a statistical model which uses the occurrence and importance of a word within a corpus/document. This model is used for document retrieval, text mining, user modelling, and search engines. \n",
    "\n",
    "#### The model which I have built here uses a simplified  version of a tf-idf model using the term frequency and statistical score of a word within a selection of texts documents.\n",
    "\n",
    "#### this simple model can help sort unlabeled documents, or even be expanded to aid in classification of documents for automated retrieval or feeds within data pipelines to other models"
   ]
  },
  {
   "cell_type": "code",
   "execution_count": 1,
   "metadata": {},
   "outputs": [],
   "source": [
    "import nltk\n",
    "import numpy as np\n"
   ]
  },
  {
   "cell_type": "code",
   "execution_count": 27,
   "metadata": {},
   "outputs": [],
   "source": [
    "\n",
    "datasets = {\n",
    "    \"tfidf-1.txt\":open(\"tfidf-1.txt\", encoding=\"utf8\").read().lower(),\n",
    "    \"tfidf-2.txt\":open(\"tfidf-2.txt\", encoding=\"utf8\").read().lower(),\n",
    "    \"tfidf-3.txt\":open(\"tfidf-3.txt\", encoding=\"utf8\").read().lower(),\n",
    "    \"tfidf-4.txt\":open(\"tfidf-4.txt\").read().lower(),\n",
    "    \"tfidf-5.txt\":open(\"tfidf-5.txt\").read().lower(),\n",
    "    \"tfidf-6.txt\":open(\"tfidf-6.txt\").read().lower(),\n",
    "    \"tfidf-7.txt\":open(\"tfidf-7.txt\").read().lower(),\n",
    "    \"tfidf-8.txt\":open(\"tfidf-8.txt\").read().lower(),\n",
    "    \"tfidf-9.txt\":open(\"tfidf-9.txt\").read().lower(),\n",
    "    \"tfidf-10.txt\":open(\"tfidf-10.txt\").read().lower(),    \n",
    "}"
   ]
  },
  {
   "cell_type": "code",
   "execution_count": 28,
   "metadata": {},
   "outputs": [
    {
     "data": {
      "text/plain": [
       "dict_keys(['tfidf-9.txt', 'tfidf-10.txt', 'tfidf-2.txt', 'tfidf-6.txt', 'tfidf-7.txt', 'tfidf-1.txt', 'tfidf-8.txt', 'tfidf-4.txt', 'tfidf-5.txt', 'tfidf-3.txt'])"
      ]
     },
     "execution_count": 28,
     "metadata": {},
     "output_type": "execute_result"
    }
   ],
   "source": [
    "datasets.keys()"
   ]
  },
  {
   "cell_type": "code",
   "execution_count": 29,
   "metadata": {},
   "outputs": [
    {
     "data": {
      "text/plain": [
       "'the french revolution was a period of far-reaching social and political upheaval in france that lasted from 1789 until 1799, and was partially carried forward by napoleon during the later expansion of the french empire. the revolution overthrew the monarchy, established a republic, experienced violent periods of political turmoil, and finally culminated in a dictatorship by napoleon that rapidly brought many of its principles to western europe and beyond. inspired by liberal and radical ideas, the revolution profoundly altered the course of modern history, triggering the global decline of absolute monarchies while replacing them with republics. through the revolutionary wars, it unleashed a wave of global conflicts that extended from the caribbean to the middle east. historians widely regard the revolution as one of the most important events in human history.\\n\\nthe causes of the french revolution are complex and are still debated among historians. following the seven years\\' war and the american revolutionary war, the french government was deeply in debt and attempted to restore its financial status through unpopular taxation schemes. years of bad harvests leading up to the revolution also inflamed popular resentment of the privileges enjoyed by the clergy and the aristocracy. demands for change were formulated in terms of enlightenment ideals and contributed to the convocation of the estates-general in may 1789. the first year of the revolution saw members of the third estate taking control, the assault on the bastille in july, the passage of the declaration of the rights of man and of the citizen in august, and a women\\'s march on versailles that forced the royal court back to paris in october. a central event of the first stage, in august 1789, was the abolition of feudalism and the old rules and privileges left over from the ancien regime. the next few years featured political struggles between various liberal assemblies and right-wing supporters of the monarchy intent on thwarting major reforms. the republic was proclaimed in september 1792 after the french victory at valmy. in a momentous event that led to international condemnation, louis xvi was executed in january 1793.\\n\\nexternal threats closely shaped the course of the revolution. the revolutionary wars beginning in 1792 ultimately featured french victories that facilitated the conquest of the italian peninsula, the low countries and most territories west of the rhine â€“ achievements that had eluded previous french governments for centuries. internally, popular agitation radicalised the revolution significantly, culminating in the rise of maximilien robespierre and the jacobins. the dictatorship imposed by the committee of public safety during the reign of terror, from 1793 until 1794, established price controls on food and other items, abolished slavery in french colonies abroad, dechristianised society through the creation of a new calendar and the expulsion of religious figures, and secured the borders of the new republic from its enemies. large numbers of civilians were executed by revolutionary tribunals during the terror, with estimates ranging from 16,000 to 40,000. after the thermidorian reaction, an executive council known as the directory assumed control of the french state in 1795. the rule of the directory was characterised by suspended elections, debt repudiations, financial instability, persecutions against the catholic clergy, and significant military conquests abroad. dogged by charges of corruption, the directory collapsed in a coup led by napoleon bonaparte in 1799. napoleon, who became the hero of the revolution through his popular military campaigns, went on to establish the consulate and later the first empire, setting the stage for a wider array of global conflicts in the napoleonic wars.\\n\\nthe modern era has unfolded in the shadow of the french revolution. almost all future revolutionary movements looked back to the revolution as their predecessor. its central phrases and cultural symbols, such as la marseillaise and liberte, egalite, fraternite, became the clarion call for other major upheavals in modern history, including the russian revolution over a century later. the values and institutions of the revolution dominate french politics to this day. french historian franã§ois aulard comments that:\\n\\nthe revolution consisted in the suppression of what was called the feudal system, in the emancipation of the individual, in greater division of landed property, the abolition of the privileges of noble birth, the establishment of equality, the simplification of life.... the french revolution differed from other revolutions in being not merely national, for it aimed at benefiting all humanity.\"\\nglobally, the revolution accelerated the rise of republics and democracies. it became the focal point for the development of all modern political ideologies, leading to the spread of liberalism, radicalism, nationalism, socialism, feminism, and secularism, among many others. the revolution also witnessed the birth of total war by organizing the resources of france and the lives of its citizens towards the objective of military conquest. some of its central documents, like the declaration of the rights of man, expanded the arena of human rights to include women and slaves, leading to movements for abolitionism and universal suffrage in the next century.'"
      ]
     },
     "execution_count": 29,
     "metadata": {},
     "output_type": "execute_result"
    }
   ],
   "source": [
    "datasets['tfidf-6.txt']"
   ]
  },
  {
   "cell_type": "code",
   "execution_count": 30,
   "metadata": {},
   "outputs": [],
   "source": [
    "###number of times a word appears in document\n",
    "def term_frequency(dataset, file_name):\n",
    "    text = dataset[file_name]\n",
    "    tokens = nltk.word_tokenize(text)\n",
    "    fd = nltk.FreqDist(tokens)\n",
    "    return fd"
   ]
  },
  {
   "cell_type": "code",
   "execution_count": 31,
   "metadata": {},
   "outputs": [
    {
     "data": {
      "text/plain": [
       "FreqDist({'the': 105, 'of': 57, ',': 54, 'and': 30, '.': 28, 'in': 27, 'revolution': 18, 'to': 14, 'french': 13, 'a': 11, ...})"
      ]
     },
     "execution_count": 31,
     "metadata": {},
     "output_type": "execute_result"
    }
   ],
   "source": [
    "term_frequency(datasets, \"tfidf-6.txt\" )"
   ]
  },
  {
   "cell_type": "code",
   "execution_count": 32,
   "metadata": {},
   "outputs": [],
   "source": [
    "#number of documents that contain a specific word\n",
    "import math\n",
    "def inverse_document_frequency(dataset, term):\n",
    "    count = [term in dataset[file_name] for file_name in dataset]\n",
    "    inv_df = math.log(len(count)/sum(count))\n",
    "    return inv_df"
   ]
  },
  {
   "cell_type": "code",
   "execution_count": 33,
   "metadata": {},
   "outputs": [
    {
     "data": {
      "text/plain": [
       "0.5108256237659907"
      ]
     },
     "execution_count": 33,
     "metadata": {},
     "output_type": "execute_result"
    }
   ],
   "source": [
    "inverse_document_frequency(datasets,\"world\")"
   ]
  },
  {
   "cell_type": "code",
   "execution_count": 34,
   "metadata": {},
   "outputs": [],
   "source": [
    "def tfidf(dataset, file_name, n):\n",
    "    term_scores = {}\n",
    "    file_fd = term_frequency(datasets, file_name)\n",
    "    for term in file_fd:\n",
    "        if term.isalpha():\n",
    "            idf_value = inverse_document_frequency(dataset, term)\n",
    "            tf_value = term_frequency(dataset, file_name)[term]\n",
    "            tfidf_value = tf_value * idf_value\n",
    "            term_scores[term] = round(tfidf_value,2)\n",
    "    return sorted(term_scores.items(), key=lambda x:-x[1])[:n]"
   ]
  },
  {
   "cell_type": "markdown",
   "metadata": {},
   "source": [
    "#### find the top 10 terms within a given document/corpus"
   ]
  },
  {
   "cell_type": "code",
   "execution_count": 35,
   "metadata": {},
   "outputs": [
    {
     "data": {
      "text/plain": [
       "[('french', 15.65),\n",
       " ('revolution', 12.48),\n",
       " ('rights', 6.91),\n",
       " ('privileges', 6.91),\n",
       " ('napoleon', 6.44),\n",
       " ('revolutionary', 6.02),\n",
       " ('global', 4.83),\n",
       " ('popular', 4.83),\n",
       " ('leading', 4.83),\n",
       " ('directory', 4.83)]"
      ]
     },
     "execution_count": 35,
     "metadata": {},
     "output_type": "execute_result"
    }
   ],
   "source": [
    "tfidf(datasets, 'tfidf-6.txt',10)"
   ]
  },
  {
   "cell_type": "markdown",
   "metadata": {},
   "source": [
    "#### Profile the who dataset and find the top 5 terms within the document/corpus"
   ]
  },
  {
   "cell_type": "code",
   "execution_count": 36,
   "metadata": {},
   "outputs": [
    {
     "name": "stdout",
     "output_type": "stream",
     "text": [
      "tfidf-9.txt: \n",
      " [('rockefeller', 23.03), ('oil', 8.05), ('standard', 6.91), ('business', 6.91), ('university', 4.83)]\n",
      "tfidf-10.txt: \n",
      " [('tesla', 16.12), ('electrical', 6.44), ('wireless', 6.44), ('mechanical', 4.61), ('alternating', 4.61)]\n",
      "tfidf-2.txt: \n",
      " [('lunar', 20.72), ('module', 16.12), ('armstrong', 13.82), ('apollo', 11.51), ('spacecraft', 9.21)]\n",
      "tfidf-6.txt: \n",
      " [('french', 15.65), ('revolution', 12.48), ('rights', 6.91), ('privileges', 6.91), ('napoleon', 6.44)]\n",
      "tfidf-7.txt: \n",
      " [('leonardo', 18.42), ('painting', 6.91), ('vinci', 6.44), ('painter', 4.61), ('personality', 4.61)]\n",
      "tfidf-1.txt: \n",
      " [('soviet', 20.72), ('union', 18.42), ('axis', 16.12), ('germany', 11.27), ('allies', 11.27)]\n",
      "tfidf-8.txt: \n",
      " [('titanic', 18.42), ('passengers', 11.51), ('aboard', 9.21), ('lifeboats', 9.21), ('maritime', 9.21)]\n",
      "tfidf-4.txt: \n",
      " [('washington', 25.33), ('army', 4.83), ('president', 4.82), ('address', 4.61), ('colonial', 4.61)]\n",
      "tfidf-5.txt: \n",
      " [('newton', 23.03), ('mathematical', 6.91), ('scientists', 6.91), ('principles', 4.83), ('motion', 4.83)]\n",
      "tfidf-3.txt: \n",
      " [('napoleon', 32.19), ('french', 16.86), ('coalition', 13.82), ('prussia', 6.91), ('army', 6.44)]\n"
     ]
    }
   ],
   "source": [
    "for file_name in datasets:\n",
    "    print(\"{0}: \\n {1}\".format(file_name, tfidf(datasets,file_name,5)))"
   ]
  },
  {
   "cell_type": "code",
   "execution_count": null,
   "metadata": {},
   "outputs": [],
   "source": []
  }
 ],
 "metadata": {
  "kernelspec": {
   "display_name": "Python 3",
   "language": "python",
   "name": "python3"
  },
  "language_info": {
   "codemirror_mode": {
    "name": "ipython",
    "version": 3
   },
   "file_extension": ".py",
   "mimetype": "text/x-python",
   "name": "python",
   "nbconvert_exporter": "python",
   "pygments_lexer": "ipython3",
   "version": "3.5.5"
  }
 },
 "nbformat": 4,
 "nbformat_minor": 2
}
